{
 "cells": [
  {
   "cell_type": "markdown",
   "metadata": {
    "colab_type": "text",
    "id": "P0LwQPRzXUp3"
   },
   "source": [
    "**In this notebook we will note the diffrences between the accuracy of Conv2d and Separableconv2D**"
   ]
  },
  {
   "cell_type": "markdown",
   "metadata": {
    "colab_type": "text",
    "id": "Qo-Q0N_Z5x_X"
   },
   "source": [
    "my english is weak so plz manage \n",
    "In English \n",
    "Here , first we will import libraries than assign the path of directories where over data is present than flow data from directories , scale the the pixel using **Image_data_generator** class"
   ]
  },
  {
   "cell_type": "code",
   "execution_count": null,
   "metadata": {},
   "outputs": [],
   "source": []
  },
  {
   "cell_type": "code",
   "execution_count": null,
   "metadata": {},
   "outputs": [],
   "source": []
  },
  {
   "cell_type": "markdown",
   "metadata": {
    "colab_type": "text",
    "id": "HDkxoI4I6rWi"
   },
   "source": [
    "In urdu\n",
    "yahan per hmm na libraries ko import kia h "
   ]
  },
  {
   "cell_type": "code",
   "execution_count": null,
   "metadata": {
    "colab": {},
    "colab_type": "code",
    "id": "QD4zQwWF58QI"
   },
   "outputs": [],
   "source": [
    "\n",
    "import os\n",
    "from keras_preprocessing import image\n",
    "from keras_preprocessing.image import ImageDataGenerator\n",
    "from keras.models import Sequential\n",
    "from keras import layers\n",
    "from keras import optimizers"
   ]
  },
  {
   "cell_type": "code",
   "execution_count": 69,
   "metadata": {
    "colab": {},
    "colab_type": "code",
    "id": "lYigQ978Dbvm"
   },
   "outputs": [],
   "source": [
    "train_dir = '/content/drive/My Drive/b and a/train'\n",
    "val_dir  = '/content/drive/My Drive/b and a/valid'\n",
    "test_dir = '/content/drive/My Drive/b and a/test'"
   ]
  },
  {
   "cell_type": "code",
   "execution_count": 70,
   "metadata": {
    "colab": {},
    "colab_type": "code",
    "id": "U8591p1eD_Wg"
   },
   "outputs": [],
   "source": [
    "\n",
    "train_gen = ImageDataGenerator(rescale= 1./255)\n",
    "val_gen = ImageDataGenerator(rescale=1./255)\n",
    "test_gen = ImageDataGenerator(rescale= 1./255)\n"
   ]
  },
  {
   "cell_type": "code",
   "execution_count": 71,
   "metadata": {
    "colab": {
     "base_uri": "https://localhost:8080/",
     "height": 51
    },
    "colab_type": "code",
    "id": "cwnGlxKhFAqt",
    "outputId": "f4471f94-4990-40a6-f7d3-ce1427e15baa"
   },
   "outputs": [
    {
     "name": "stdout",
     "output_type": "stream",
     "text": [
      "Found 4000 images belonging to 2 classes.\n",
      "Found 300 images belonging to 2 classes.\n"
     ]
    }
   ],
   "source": [
    "train_data_gen = train_gen.flow_from_directory(train_dir,class_mode=\"binary\",target_size=(224,224))\n",
    "val_data_gen = val_gen.flow_from_directory(val_dir,class_mode=\"binary\",target_size=(224,224))\n",
    "\n",
    "\n",
    "\n"
   ]
  },
  {
   "cell_type": "code",
   "execution_count": 1,
   "metadata": {
    "colab": {},
    "colab_type": "code",
    "id": "geGgdIktjgAO"
   },
   "outputs": [],
   "source": []
  },
  {
   "cell_type": "code",
   "execution_count": 30,
   "metadata": {
    "colab": {
     "base_uri": "https://localhost:8080/",
     "height": 51
    },
    "colab_type": "code",
    "id": "ObynKYiTYIk-",
    "outputId": "71b5af55-73b8-4a6c-eecc-4b7685744e21"
   },
   "outputs": [
    {
     "name": "stdout",
     "output_type": "stream",
     "text": [
      "[0. 0. 0. 1. 1. 0. 0. 0. 1. 1. 1. 0. 0. 1. 1. 1. 0. 1. 0. 0. 0. 0. 0. 1.\n",
      " 0. 1. 0. 0. 0. 1. 1. 0.]\n"
     ]
    }
   ],
   "source": [
    "print(img)"
   ]
  },
  {
   "cell_type": "code",
   "execution_count": null,
   "metadata": {
    "colab": {
     "base_uri": "https://localhost:8080/",
     "height": 51
    },
    "colab_type": "code",
    "id": "tp4HGT_r0Hd5",
    "outputId": "0dc0f9dc-7021-4f60-b7e0-1772e2eca283"
   },
   "outputs": [
    {
     "name": "stdout",
     "output_type": "stream",
     "text": [
      "batch_input   (32, 224, 224, 3)\n",
      "batch_label   (32,)\n"
     ]
    }
   ],
   "source": [
    "for batch_input , batch_label in train_data_gen:\n",
    "  print('batch_input  ', batch_input.shape )\n",
    "  print('batch_label  ', batch_label.shape )\n",
    "  break"
   ]
  },
  {
   "cell_type": "markdown",
   "metadata": {
    "colab": {},
    "colab_type": "code",
    "id": "6lPOClEtW2tn"
   },
   "source": [
    "Here we will create a model using one conv2d , two layers of Maxpooling2D ,one layer of Flatten and two layers of Dense "
   ]
  },
  {
   "cell_type": "code",
   "execution_count": 73,
   "metadata": {
    "colab": {
     "base_uri": "https://localhost:8080/",
     "height": 357
    },
    "colab_type": "code",
    "id": "jrpA0uO4Fc9U",
    "outputId": "3b7b2d06-24cb-4579-8619-60561a48147d"
   },
   "outputs": [
    {
     "name": "stdout",
     "output_type": "stream",
     "text": [
      "Model: \"sequential\"\n",
      "_________________________________________________________________\n",
      "Layer (type)                 Output Shape              Param #   \n",
      "=================================================================\n",
      "conv2d (Conv2D)              (None, 222, 222, 32)      896       \n",
      "_________________________________________________________________\n",
      "max_pooling2d (MaxPooling2D) (None, 111, 111, 32)      0         \n",
      "_________________________________________________________________\n",
      "max_pooling2d_1 (MaxPooling2 (None, 55, 55, 32)        0         \n",
      "_________________________________________________________________\n",
      "flatten (Flatten)            (None, 96800)             0         \n",
      "_________________________________________________________________\n",
      "dense (Dense)                (None, 16)                1548816   \n",
      "_________________________________________________________________\n",
      "dense_1 (Dense)              (None, 1)                 17        \n",
      "=================================================================\n",
      "Total params: 1,549,729\n",
      "Trainable params: 1,549,729\n",
      "Non-trainable params: 0\n",
      "_________________________________________________________________\n"
     ]
    }
   ],
   "source": [
    "model_1 = Sequential()\n",
    "model_1.add(layers.Conv2D(32,(3,3) ,activation = 'relu' ,input_shape= (224,224,3)))\n",
    "model_1.add(layers.MaxPooling2D( (2,2) ))\n",
    "model_1.add(layers.MaxPooling2D( (2,2) ))\n",
    "model_1.add(layers.Flatten())\n",
    "model_1.add(layers.Dense(16,activation= \"relu\"))\n",
    "model_1.add(layers.Dense(1 , activation = 'sigmoid' ))\n",
    "\n",
    "model_1.compile(optimizer=optimizers.RMSprop(2e-5),loss=\"binary_crossentropy\", metrics=[\"accuracy\"])\n",
    "model_1.summary()"
   ]
  },
  {
   "cell_type": "markdown",
   "metadata": {},
   "source": [
    "we can see that by using the above architecture of model_1 our validation accuracy has gone to 78 in 20 epochs and minimum loss is 50.66 \n"
   ]
  },
  {
   "cell_type": "code",
   "execution_count": 75,
   "metadata": {
    "colab": {
     "base_uri": "https://localhost:8080/",
     "height": 428
    },
    "colab_type": "code",
    "id": "nNwHb4vRMZxW",
    "outputId": "b0e6e8cb-df91-494e-9f89-e902b298ec9d"
   },
   "outputs": [
    {
     "name": "stdout",
     "output_type": "stream",
     "text": [
      "WARNING:tensorflow:From <ipython-input-75-0023fd53baa8>:1: Model.fit_generator (from tensorflow.python.keras.engine.training) is deprecated and will be removed in a future version.\n",
      "Instructions for updating:\n",
      "Please use Model.fit, which supports generators.\n",
      "Epoch 1/10\n",
      "40/40 [==============================] - 979s 24s/step - loss: 0.6841 - accuracy: 0.5453 - val_loss: 0.6688 - val_accuracy: 0.6033\n",
      "Epoch 2/10\n",
      "40/40 [==============================] - 501s 13s/step - loss: 0.6632 - accuracy: 0.6008 - val_loss: 0.6495 - val_accuracy: 0.6800\n",
      "Epoch 3/10\n",
      "40/40 [==============================] - 337s 8s/step - loss: 0.6421 - accuracy: 0.6664 - val_loss: 0.6296 - val_accuracy: 0.7067\n",
      "Epoch 4/10\n",
      "40/40 [==============================] - 249s 6s/step - loss: 0.6228 - accuracy: 0.6609 - val_loss: 0.6150 - val_accuracy: 0.7033\n",
      "Epoch 5/10\n",
      "40/40 [==============================] - 152s 4s/step - loss: 0.6032 - accuracy: 0.6945 - val_loss: 0.6025 - val_accuracy: 0.7300\n",
      "Epoch 6/10\n",
      "40/40 [==============================] - 109s 3s/step - loss: 0.5939 - accuracy: 0.7063 - val_loss: 0.5898 - val_accuracy: 0.7400\n",
      "Epoch 7/10\n",
      "40/40 [==============================] - 82s 2s/step - loss: 0.5916 - accuracy: 0.7070 - val_loss: 0.5782 - val_accuracy: 0.7300\n",
      "Epoch 8/10\n",
      "40/40 [==============================] - 44s 1s/step - loss: 0.5772 - accuracy: 0.7117 - val_loss: 0.5692 - val_accuracy: 0.7400\n",
      "Epoch 9/10\n",
      "40/40 [==============================] - 33s 828ms/step - loss: 0.5682 - accuracy: 0.7234 - val_loss: 0.5813 - val_accuracy: 0.6767\n",
      "Epoch 10/10\n",
      "40/40 [==============================] - 26s 642ms/step - loss: 0.5619 - accuracy: 0.7344 - val_loss: 0.5723 - val_accuracy: 0.6967\n"
     ]
    }
   ],
   "source": [
    "history_1 = model_1.fit_generator(train_data_gen,steps_per_epoch=40,epochs=10,validation_data=val_data_gen,validation_steps=10)\n"
   ]
  },
  {
   "cell_type": "code",
   "execution_count": null,
   "metadata": {},
   "outputs": [],
   "source": []
  },
  {
   "cell_type": "code",
   "execution_count": 80,
   "metadata": {
    "colab": {
     "base_uri": "https://localhost:8080/",
     "height": 357
    },
    "colab_type": "code",
    "id": "Hl1eVcShWnJR",
    "outputId": "81f60d7f-0964-46e5-fb4a-7199b7689629"
   },
   "outputs": [
    {
     "name": "stdout",
     "output_type": "stream",
     "text": [
      "Epoch 1/10\n",
      "40/40 [==============================] - 4s 105ms/step - loss: 0.5592 - accuracy: 0.7336 - val_loss: 0.5465 - val_accuracy: 0.7633\n",
      "Epoch 2/10\n",
      "40/40 [==============================] - 4s 103ms/step - loss: 0.5525 - accuracy: 0.7297 - val_loss: 0.5403 - val_accuracy: 0.7633\n",
      "Epoch 3/10\n",
      "40/40 [==============================] - 4s 103ms/step - loss: 0.5425 - accuracy: 0.7500 - val_loss: 0.5350 - val_accuracy: 0.7700\n",
      "Epoch 4/10\n",
      "40/40 [==============================] - 4s 103ms/step - loss: 0.5355 - accuracy: 0.7531 - val_loss: 0.5264 - val_accuracy: 0.7733\n",
      "Epoch 5/10\n",
      "40/40 [==============================] - 4s 104ms/step - loss: 0.5256 - accuracy: 0.7500 - val_loss: 0.5236 - val_accuracy: 0.7633\n",
      "Epoch 6/10\n",
      "40/40 [==============================] - 4s 103ms/step - loss: 0.5060 - accuracy: 0.7680 - val_loss: 0.5610 - val_accuracy: 0.6967\n",
      "Epoch 7/10\n",
      "40/40 [==============================] - 4s 104ms/step - loss: 0.5131 - accuracy: 0.7680 - val_loss: 0.5226 - val_accuracy: 0.7633\n",
      "Epoch 8/10\n",
      "40/40 [==============================] - 4s 104ms/step - loss: 0.5135 - accuracy: 0.7656 - val_loss: 0.5108 - val_accuracy: 0.7700\n",
      "Epoch 9/10\n",
      "40/40 [==============================] - 4s 103ms/step - loss: 0.5049 - accuracy: 0.7836 - val_loss: 0.5122 - val_accuracy: 0.7700\n",
      "Epoch 10/10\n",
      "40/40 [==============================] - 4s 103ms/step - loss: 0.5111 - accuracy: 0.7563 - val_loss: 0.5066 - val_accuracy: 0.7833\n"
     ]
    }
   ],
   "source": [
    "history_1a = model_1.fit_generator(train_data_gen,steps_per_epoch=40,epochs=10,validation_data=val_data_gen,validation_steps=10)"
   ]
  },
  {
   "cell_type": "code",
   "execution_count": 74,
   "metadata": {
    "colab": {
     "base_uri": "https://localhost:8080/",
     "height": 357
    },
    "colab_type": "code",
    "id": "3goajwEdmrVv",
    "outputId": "76ac1463-2a5a-4e5b-fdef-1766ba126321"
   },
   "outputs": [
    {
     "name": "stdout",
     "output_type": "stream",
     "text": [
      "Model: \"sequential_1\"\n",
      "_________________________________________________________________\n",
      "Layer (type)                 Output Shape              Param #   \n",
      "=================================================================\n",
      "separable_conv2d (SeparableC (None, 222, 222, 32)      155       \n",
      "_________________________________________________________________\n",
      "max_pooling2d_2 (MaxPooling2 (None, 111, 111, 32)      0         \n",
      "_________________________________________________________________\n",
      "max_pooling2d_3 (MaxPooling2 (None, 55, 55, 32)        0         \n",
      "_________________________________________________________________\n",
      "flatten_1 (Flatten)          (None, 96800)             0         \n",
      "_________________________________________________________________\n",
      "dense_2 (Dense)              (None, 16)                1548816   \n",
      "_________________________________________________________________\n",
      "dense_3 (Dense)              (None, 1)                 17        \n",
      "=================================================================\n",
      "Total params: 1,548,988\n",
      "Trainable params: 1,548,988\n",
      "Non-trainable params: 0\n",
      "_________________________________________________________________\n"
     ]
    }
   ],
   "source": [
    "# same architecture as above (model 1 ) but just change conv2d to separable conv2d \n",
    "from keras.models import Sequential\n",
    "from keras import layers\n",
    "from keras import optimizers\n",
    "\n",
    "model_2 = Sequential()\n",
    "model_2.add(layers.SeparableConv2D(32,(3,3) ,activation = 'relu' ,input_shape= (224,224,3)))\n",
    "model_2.add(layers.MaxPooling2D( (2,2) ))\n",
    "model_2.add(layers.MaxPooling2D( (2,2) ))\n",
    "model_2.add(layers.Flatten())\n",
    "model_2.add(layers.Dense(16,activation= \"relu\"))\n",
    "model_2.add(layers.Dense(1 , activation = 'sigmoid' ))\n",
    "\n",
    "model_2.compile(optimizer=optimizers.RMSprop(2e-5),loss=\"binary_crossentropy\", metrics=[\"accuracy\"])\n",
    "model_2.summary()"
   ]
  },
  {
   "cell_type": "markdown",
   "metadata": {},
   "source": [
    "we can see that by using the above architecture of model_2 our validation accuracy has gone to 76.33 in 20 epochs and minimum loss on 20 epochs is 51.46\n"
   ]
  },
  {
   "cell_type": "code",
   "execution_count": 76,
   "metadata": {
    "colab": {
     "base_uri": "https://localhost:8080/",
     "height": 394
    },
    "colab_type": "code",
    "id": "Qw8rCd5IpILC",
    "outputId": "f9425f78-36ba-49fc-d093-697513794a89"
   },
   "outputs": [
    {
     "name": "stdout",
     "output_type": "stream",
     "text": [
      "Epoch 1/10\n",
      " 2/40 [>.............................] - ETA: 3s - loss: 0.6969 - accuracy: 0.5156WARNING:tensorflow:Callbacks method `on_train_batch_end` is slow compared to the batch time (batch time: 0.0240s vs `on_train_batch_end` time: 0.0659s). Check your callbacks.\n",
      "40/40 [==============================] - 17s 419ms/step - loss: 0.6855 - accuracy: 0.5406 - val_loss: 0.6644 - val_accuracy: 0.6567\n",
      "Epoch 2/10\n",
      "40/40 [==============================] - 16s 400ms/step - loss: 0.6604 - accuracy: 0.6094 - val_loss: 0.6461 - val_accuracy: 0.6733\n",
      "Epoch 3/10\n",
      "40/40 [==============================] - 8s 210ms/step - loss: 0.6412 - accuracy: 0.6609 - val_loss: 0.6294 - val_accuracy: 0.7133\n",
      "Epoch 4/10\n",
      "40/40 [==============================] - 9s 225ms/step - loss: 0.6221 - accuracy: 0.6742 - val_loss: 0.6154 - val_accuracy: 0.6900\n",
      "Epoch 5/10\n",
      "40/40 [==============================] - 9s 237ms/step - loss: 0.6142 - accuracy: 0.6805 - val_loss: 0.6040 - val_accuracy: 0.7100\n",
      "Epoch 6/10\n",
      "40/40 [==============================] - 5s 129ms/step - loss: 0.5916 - accuracy: 0.7063 - val_loss: 0.6294 - val_accuracy: 0.5867\n",
      "Epoch 7/10\n",
      "40/40 [==============================] - 5s 129ms/step - loss: 0.5907 - accuracy: 0.7000 - val_loss: 0.5860 - val_accuracy: 0.7167\n",
      "Epoch 8/10\n",
      "40/40 [==============================] - 5s 129ms/step - loss: 0.5730 - accuracy: 0.7391 - val_loss: 0.5886 - val_accuracy: 0.6967\n",
      "Epoch 9/10\n",
      "40/40 [==============================] - 5s 115ms/step - loss: 0.5681 - accuracy: 0.7180 - val_loss: 0.5874 - val_accuracy: 0.6667\n",
      "Epoch 10/10\n",
      "40/40 [==============================] - 5s 114ms/step - loss: 0.5653 - accuracy: 0.7242 - val_loss: 0.5650 - val_accuracy: 0.7267\n"
     ]
    }
   ],
   "source": [
    "history_2 = model_2.fit_generator(train_data_gen,steps_per_epoch=40,epochs=10,validation_data=val_data_gen,validation_steps=10)"
   ]
  },
  {
   "cell_type": "code",
   "execution_count": 79,
   "metadata": {
    "colab": {
     "base_uri": "https://localhost:8080/",
     "height": 394
    },
    "colab_type": "code",
    "id": "BfOgJQqxVzAl",
    "outputId": "cf9ab4e0-bf78-413a-da5b-5a40ac0ed437"
   },
   "outputs": [
    {
     "name": "stdout",
     "output_type": "stream",
     "text": [
      "Epoch 1/10\n",
      " 2/40 [>.............................] - ETA: 4s - loss: 0.5819 - accuracy: 0.7344WARNING:tensorflow:Callbacks method `on_train_batch_end` is slow compared to the batch time (batch time: 0.0187s vs `on_train_batch_end` time: 0.1016s). Check your callbacks.\n",
      "40/40 [==============================] - 5s 118ms/step - loss: 0.5734 - accuracy: 0.7031 - val_loss: 0.5642 - val_accuracy: 0.7333\n",
      "Epoch 2/10\n",
      "40/40 [==============================] - 5s 115ms/step - loss: 0.5568 - accuracy: 0.7328 - val_loss: 0.5648 - val_accuracy: 0.7267\n",
      "Epoch 3/10\n",
      "40/40 [==============================] - 5s 114ms/step - loss: 0.5535 - accuracy: 0.7484 - val_loss: 0.5489 - val_accuracy: 0.7633\n",
      "Epoch 4/10\n",
      "40/40 [==============================] - 5s 114ms/step - loss: 0.5337 - accuracy: 0.7422 - val_loss: 0.5357 - val_accuracy: 0.7567\n",
      "Epoch 5/10\n",
      "40/40 [==============================] - 5s 114ms/step - loss: 0.5233 - accuracy: 0.7594 - val_loss: 0.5301 - val_accuracy: 0.7533\n",
      "Epoch 6/10\n",
      "40/40 [==============================] - 5s 114ms/step - loss: 0.5342 - accuracy: 0.7477 - val_loss: 0.5277 - val_accuracy: 0.7667\n",
      "Epoch 7/10\n",
      "40/40 [==============================] - 5s 115ms/step - loss: 0.5219 - accuracy: 0.7563 - val_loss: 0.5210 - val_accuracy: 0.7567\n",
      "Epoch 8/10\n",
      "40/40 [==============================] - 5s 113ms/step - loss: 0.5235 - accuracy: 0.7648 - val_loss: 0.5146 - val_accuracy: 0.7633\n",
      "Epoch 9/10\n",
      "40/40 [==============================] - 5s 115ms/step - loss: 0.5037 - accuracy: 0.7672 - val_loss: 0.5311 - val_accuracy: 0.7533\n",
      "Epoch 10/10\n",
      "40/40 [==============================] - 5s 114ms/step - loss: 0.5130 - accuracy: 0.7672 - val_loss: 0.5351 - val_accuracy: 0.7433\n"
     ]
    }
   ],
   "source": [
    "history_2a =  model_2.fit_generator(train_data_gen,steps_per_epoch=40,epochs=10,validation_data=val_data_gen,validation_steps=10)"
   ]
  },
  {
   "cell_type": "markdown",
   "metadata": {
    "colab": {},
    "colab_type": "code",
    "id": "eP4yj6HTV6RX"
   },
   "source": [
    "one layer of conv2d has generate 896 params and the other hand one layer of separableconv2d has generate just 155 param (you can see above)\n",
    "val accuracy of both architecture are all most same "
   ]
  },
  {
   "cell_type": "code",
   "execution_count": null,
   "metadata": {},
   "outputs": [],
   "source": []
  }
 ],
 "metadata": {
  "accelerator": "GPU",
  "colab": {
   "collapsed_sections": [],
   "name": "beauty and average face ",
   "provenance": []
  },
  "kernelspec": {
   "display_name": "Python 3",
   "language": "python",
   "name": "python3"
  },
  "language_info": {
   "codemirror_mode": {
    "name": "ipython",
    "version": 3
   },
   "file_extension": ".py",
   "mimetype": "text/x-python",
   "name": "python",
   "nbconvert_exporter": "python",
   "pygments_lexer": "ipython3",
   "version": "3.7.6"
  }
 },
 "nbformat": 4,
 "nbformat_minor": 1
}
