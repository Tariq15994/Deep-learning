{
 "cells": [
  {
   "cell_type": "markdown",
   "metadata": {},
   "source": [
    "# Binary classification"
   ]
  },
  {
   "cell_type": "markdown",
   "metadata": {},
   "source": [
    "##### Binary Classification on aveage lady face (without facial) and Beautiful lady face (with facial)"
   ]
  },
  {
   "cell_type": "code",
   "execution_count": 14,
   "metadata": {
    "colab": {},
    "colab_type": "code",
    "id": "lYigQ978Dbvm"
   },
   "outputs": [],
   "source": [
    "import os\n",
    "import tensorflow\n",
    "from tensorflow.keras.preprocessing import image\n",
    "train_dir = \"E:/588139_1060756_bundle_archive/train\"\n",
    "val_dir  = \"E:/588139_1060756_bundle_archive/valid\"\n",
    "test_dir = \"E:/588139_1060756_bundle_archive/test\""
   ]
  },
  {
   "cell_type": "code",
   "execution_count": 11,
   "metadata": {
    "colab": {},
    "colab_type": "code",
    "id": "U8591p1eD_Wg"
   },
   "outputs": [],
   "source": [
    "from keras_preprocessing.image import ImageDataGenerator\n",
    "train_gen = ImageDataGenerator(rescale= 1./255) # normalized the data by  using rescale \n",
    "val_gen = ImageDataGenerator(rescale=1./255)\n",
    "test_gen = ImageDataGenerator(rescale= 1./255)\n"
   ]
  },
  {
   "cell_type": "code",
   "execution_count": null,
   "metadata": {
    "colab": {
     "base_uri": "https://localhost:8080/",
     "height": 51
    },
    "colab_type": "code",
    "id": "cwnGlxKhFAqt",
    "outputId": "51a014cf-26fe-4788-ce95-0cbf1b246e40"
   },
   "outputs": [],
   "source": [
    "train_data_gen = train_gen.flow_from_directory(train_dir,class_mode=\"binary\",target_size=(224,224))\n",
    "val_data_gen = val_gen.flow_from_directory(val_dir,class_mode=\"binary\",target_size=(224,224))\n",
    "\n",
    "\n",
    "\n"
   ]
  },
  {
   "cell_type": "markdown",
   "metadata": {},
   "source": [
    "Create BaseLine Model and train the model"
   ]
  },
  {
   "cell_type": "code",
   "execution_count": 84,
   "metadata": {
    "colab": {
     "base_uri": "https://localhost:8080/",
     "height": 323
    },
    "colab_type": "code",
    "id": "jrpA0uO4Fc9U",
    "outputId": "2878d3e0-aa44-4291-9563-dce1d774d841"
   },
   "outputs": [],
   "source": [
    "from tensorflow.keras.models import Sequential\n",
    "from tensorflow.keras import layers\n",
    "from tensorflow.keras import optimizers\n",
    "\n",
    "model = Sequential()\n",
    "model.add(layers.Conv2D(32,(3,3) ,activation = 'relu' ,input_shape= (224,224,3)))\n",
    "model.add(layers.MaxPooling2D( (2,2) ))\n",
    "model.add(layers.Flatten())\n",
    "model.add(layers.Dense(32,activation= \"relu\"))\n",
    "model.add(layers.Dense(1 , activation = 'sigmoid' ))\n",
    "\n",
    "model.compile(optimizer=optimizers.RMSprop(2e-5),loss=\"binary_crossentropy\", metrics=[\"accuracy\"])\n",
    "model.summary()"
   ]
  },
  {
   "cell_type": "code",
   "execution_count": 18,
   "metadata": {
    "colab": {
     "base_uri": "https://localhost:8080/",
     "height": 377
    },
    "colab_type": "code",
    "id": "nNwHb4vRMZxW",
    "outputId": "cdf37469-0b59-486c-8f25-1748f9b48be4"
   },
   "outputs": [
    {
     "name": "stdout",
     "output_type": "stream",
     "text": [
      "Epoch 1/10\n",
      "40/40 [==============================] - 80s 2s/step - loss: 0.8314 - acc: 0.5359 - val_loss: 0.6103 - val_acc: 0.6800\n",
      "Epoch 2/10\n",
      "40/40 [==============================] - 79s 2s/step - loss: 0.7365 - acc: 0.5805 - val_loss: 0.7219 - val_acc: 0.5167\n",
      "Epoch 3/10\n",
      "40/40 [==============================] - 77s 2s/step - loss: 0.6622 - acc: 0.6398 - val_loss: 0.6348 - val_acc: 0.6200\n",
      "Epoch 4/10\n",
      "40/40 [==============================] - 55s 1s/step - loss: 0.6823 - acc: 0.6422 - val_loss: 0.6604 - val_acc: 0.5733\n",
      "Epoch 5/10\n",
      "40/40 [==============================] - 53s 1s/step - loss: 0.6034 - acc: 0.6820 - val_loss: 0.6178 - val_acc: 0.6600\n",
      "Epoch 6/10\n",
      "40/40 [==============================] - 54s 1s/step - loss: 0.6461 - acc: 0.6789 - val_loss: 0.5188 - val_acc: 0.7333\n",
      "Epoch 7/10\n",
      "40/40 [==============================] - 56s 1s/step - loss: 0.6027 - acc: 0.6812 - val_loss: 0.5880 - val_acc: 0.6667\n",
      "Epoch 8/10\n",
      "40/40 [==============================] - 61s 2s/step - loss: 0.6043 - acc: 0.6953 - val_loss: 0.5106 - val_acc: 0.7467\n",
      "Epoch 9/10\n",
      "40/40 [==============================] - 77s 2s/step - loss: 0.5770 - acc: 0.7102 - val_loss: 0.4992 - val_acc: 0.7900\n",
      "Epoch 10/10\n",
      "40/40 [==============================] - 60s 2s/step - loss: 0.5761 - acc: 0.7078 - val_loss: 0.7123 - val_acc: 0.5900\n"
     ]
    }
   ],
   "source": [
    "history = model.fit_generator(train_data_gen,steps_per_epoch=40,epochs=10,validation_data=val_data_gen,validation_steps=10)\n"
   ]
  },
  {
   "cell_type": "code",
   "execution_count": 19,
   "metadata": {
    "colab": {},
    "colab_type": "code",
    "id": "omX1dlTINNsn"
   },
   "outputs": [
    {
     "name": "stdout",
     "output_type": "stream",
     "text": [
      "Epoch 1/10\n",
      "40/40 [==============================] - 95s 2s/step - loss: 0.5630 - acc: 0.7141 - val_loss: 0.5215 - val_acc: 0.7267\n",
      "Epoch 2/10\n",
      "40/40 [==============================] - 81s 2s/step - loss: 0.5608 - acc: 0.7297 - val_loss: 0.4836 - val_acc: 0.7800\n",
      "Epoch 3/10\n",
      "40/40 [==============================] - 179s 4s/step - loss: 0.5422 - acc: 0.7352 - val_loss: 0.4547 - val_acc: 0.7967\n",
      "Epoch 4/10\n",
      "40/40 [==============================] - 65s 2s/step - loss: 0.5274 - acc: 0.7461 - val_loss: 0.9820 - val_acc: 0.5367\n",
      "Epoch 5/10\n",
      "40/40 [==============================] - 57s 1s/step - loss: 0.5329 - acc: 0.7328 - val_loss: 0.9630 - val_acc: 0.5433\n",
      "Epoch 6/10\n",
      "40/40 [==============================] - 120s 3s/step - loss: 0.5235 - acc: 0.7477 - val_loss: 0.6296 - val_acc: 0.7100\n",
      "Epoch 7/10\n",
      "40/40 [==============================] - 61s 2s/step - loss: 0.5072 - acc: 0.7508 - val_loss: 0.7534 - val_acc: 0.6133\n",
      "Epoch 8/10\n",
      "40/40 [==============================] - 47s 1s/step - loss: 0.5029 - acc: 0.7523 - val_loss: 0.5833 - val_acc: 0.7300\n",
      "Epoch 9/10\n",
      "40/40 [==============================] - 47s 1s/step - loss: 0.5149 - acc: 0.7445 - val_loss: 0.8553 - val_acc: 0.6133\n",
      "Epoch 10/10\n",
      "40/40 [==============================] - 48s 1s/step - loss: 0.5087 - acc: 0.7555 - val_loss: 0.5273 - val_acc: 0.7433\n"
     ]
    }
   ],
   "source": [
    "history = model.fit_generator(train_data_gen,steps_per_epoch=40,epochs=10,validation_data=val_data_gen,validation_steps=10)"
   ]
  },
  {
   "cell_type": "code",
   "execution_count": 20,
   "metadata": {},
   "outputs": [
    {
     "name": "stdout",
     "output_type": "stream",
     "text": [
      "Epoch 1/20\n",
      "40/40 [==============================] - 86s 2s/step - loss: 0.4846 - acc: 0.7703 - val_loss: 0.4511 - val_acc: 0.7933\n",
      "Epoch 2/20\n",
      "40/40 [==============================] - 56s 1s/step - loss: 0.4652 - acc: 0.7844 - val_loss: 0.4485 - val_acc: 0.8033\n",
      "Epoch 3/20\n",
      "40/40 [==============================] - 59s 1s/step - loss: 0.4753 - acc: 0.7641 - val_loss: 0.6164 - val_acc: 0.6867\n",
      "Epoch 4/20\n",
      "40/40 [==============================] - 53s 1s/step - loss: 0.4598 - acc: 0.7820 - val_loss: 0.6608 - val_acc: 0.6933\n",
      "Epoch 5/20\n",
      "40/40 [==============================] - 52s 1s/step - loss: 0.4582 - acc: 0.7758 - val_loss: 0.4973 - val_acc: 0.7767\n",
      "Epoch 6/20\n",
      "40/40 [==============================] - 51s 1s/step - loss: 0.4439 - acc: 0.7906 - val_loss: 0.5990 - val_acc: 0.7167\n",
      "Epoch 7/20\n",
      "40/40 [==============================] - 51s 1s/step - loss: 0.4538 - acc: 0.7750 - val_loss: 0.4012 - val_acc: 0.8133\n",
      "Epoch 8/20\n",
      "40/40 [==============================] - 52s 1s/step - loss: 0.4182 - acc: 0.8070 - val_loss: 0.4075 - val_acc: 0.8200\n",
      "Epoch 9/20\n",
      "40/40 [==============================] - 51s 1s/step - loss: 0.4573 - acc: 0.7906 - val_loss: 0.4731 - val_acc: 0.7700\n",
      "Epoch 10/20\n",
      "40/40 [==============================] - 51s 1s/step - loss: 0.4297 - acc: 0.8039 - val_loss: 0.5348 - val_acc: 0.7567\n",
      "Epoch 11/20\n",
      "40/40 [==============================] - 51s 1s/step - loss: 0.4219 - acc: 0.7969 - val_loss: 0.4088 - val_acc: 0.8067\n",
      "Epoch 12/20\n",
      "40/40 [==============================] - 50s 1s/step - loss: 0.4117 - acc: 0.8039 - val_loss: 0.4908 - val_acc: 0.7767\n",
      "Epoch 13/20\n",
      "40/40 [==============================] - 50s 1s/step - loss: 0.4118 - acc: 0.8078 - val_loss: 0.4227 - val_acc: 0.8067\n",
      "Epoch 14/20\n",
      "40/40 [==============================] - 50s 1s/step - loss: 0.4094 - acc: 0.8070 - val_loss: 0.4113 - val_acc: 0.8267\n",
      "Epoch 15/20\n",
      "40/40 [==============================] - 50s 1s/step - loss: 0.3773 - acc: 0.8289 - val_loss: 0.5138 - val_acc: 0.7567\n",
      "Epoch 16/20\n",
      "40/40 [==============================] - 49s 1s/step - loss: 0.3886 - acc: 0.8266 - val_loss: 0.3919 - val_acc: 0.8300\n",
      "Epoch 17/20\n",
      "40/40 [==============================] - 48s 1s/step - loss: 0.3835 - acc: 0.8148 - val_loss: 0.4361 - val_acc: 0.8200\n",
      "Epoch 18/20\n",
      "40/40 [==============================] - 48s 1s/step - loss: 0.3929 - acc: 0.8180 - val_loss: 0.4197 - val_acc: 0.8233\n",
      "Epoch 19/20\n",
      "40/40 [==============================] - 48s 1s/step - loss: 0.3704 - acc: 0.8281 - val_loss: 0.4280 - val_acc: 0.8100\n",
      "Epoch 20/20\n",
      "40/40 [==============================] - 48s 1s/step - loss: 0.3735 - acc: 0.8336 - val_loss: 0.4384 - val_acc: 0.8200\n"
     ]
    }
   ],
   "source": [
    "history = model.fit_generator(train_data_gen,steps_per_epoch=40,epochs=20,validation_data=val_data_gen,validation_steps=10)"
   ]
  },
  {
   "cell_type": "code",
   "execution_count": 21,
   "metadata": {},
   "outputs": [
    {
     "name": "stdout",
     "output_type": "stream",
     "text": [
      "Epoch 1/30\n",
      "40/40 [==============================] - 50s 1s/step - loss: 0.3623 - acc: 0.8305 - val_loss: 0.4182 - val_acc: 0.8400\n",
      "Epoch 2/30\n",
      "40/40 [==============================] - 49s 1s/step - loss: 0.3723 - acc: 0.8352 - val_loss: 0.3837 - val_acc: 0.8400\n",
      "Epoch 3/30\n",
      "40/40 [==============================] - 47s 1s/step - loss: 0.3743 - acc: 0.8305 - val_loss: 0.4083 - val_acc: 0.8433\n",
      "Epoch 4/30\n",
      "40/40 [==============================] - 47s 1s/step - loss: 0.3546 - acc: 0.8430 - val_loss: 0.4862 - val_acc: 0.7867\n",
      "Epoch 5/30\n",
      "40/40 [==============================] - 47s 1s/step - loss: 0.3418 - acc: 0.8453 - val_loss: 0.3957 - val_acc: 0.8100\n",
      "Epoch 6/30\n",
      "40/40 [==============================] - 48s 1s/step - loss: 0.3858 - acc: 0.8352 - val_loss: 0.3920 - val_acc: 0.8467\n",
      "Epoch 7/30\n",
      "40/40 [==============================] - 47s 1s/step - loss: 0.3131 - acc: 0.8727 - val_loss: 0.3845 - val_acc: 0.8333\n",
      "Epoch 8/30\n",
      "40/40 [==============================] - 48s 1s/step - loss: 0.3553 - acc: 0.8453 - val_loss: 0.3716 - val_acc: 0.8500\n",
      "Epoch 9/30\n",
      "40/40 [==============================] - 47s 1s/step - loss: 0.3207 - acc: 0.8633 - val_loss: 0.5032 - val_acc: 0.7733\n",
      "Epoch 10/30\n",
      "40/40 [==============================] - 48s 1s/step - loss: 0.3513 - acc: 0.8414 - val_loss: 0.5481 - val_acc: 0.7300\n",
      "Epoch 11/30\n",
      "40/40 [==============================] - 48s 1s/step - loss: 0.3179 - acc: 0.8766 - val_loss: 0.3615 - val_acc: 0.8467\n",
      "Epoch 12/30\n",
      "40/40 [==============================] - 47s 1s/step - loss: 0.3160 - acc: 0.8742 - val_loss: 0.4710 - val_acc: 0.8067\n",
      "Epoch 13/30\n",
      "40/40 [==============================] - 48s 1s/step - loss: 0.3533 - acc: 0.8383 - val_loss: 0.3796 - val_acc: 0.8300\n",
      "Epoch 14/30\n",
      "40/40 [==============================] - 50s 1s/step - loss: 0.3094 - acc: 0.8641 - val_loss: 0.3755 - val_acc: 0.8333\n",
      "Epoch 15/30\n",
      "40/40 [==============================] - 48s 1s/step - loss: 0.3334 - acc: 0.8578 - val_loss: 0.3723 - val_acc: 0.8500\n",
      "Epoch 16/30\n",
      "40/40 [==============================] - 52s 1s/step - loss: 0.3126 - acc: 0.8633 - val_loss: 0.3632 - val_acc: 0.8633\n",
      "Epoch 17/30\n",
      "40/40 [==============================] - 49s 1s/step - loss: 0.3080 - acc: 0.8680 - val_loss: 0.3817 - val_acc: 0.8533\n",
      "Epoch 18/30\n",
      "40/40 [==============================] - 48s 1s/step - loss: 0.3111 - acc: 0.8805 - val_loss: 0.3561 - val_acc: 0.8533\n",
      "Epoch 19/30\n",
      "40/40 [==============================] - 49s 1s/step - loss: 0.3115 - acc: 0.8672 - val_loss: 0.4015 - val_acc: 0.8367\n",
      "Epoch 20/30\n",
      "40/40 [==============================] - 48s 1s/step - loss: 0.3002 - acc: 0.8727 - val_loss: 0.3523 - val_acc: 0.8667\n",
      "Epoch 21/30\n",
      "40/40 [==============================] - 49s 1s/step - loss: 0.3222 - acc: 0.8602 - val_loss: 0.3384 - val_acc: 0.8600\n",
      "Epoch 22/30\n",
      "40/40 [==============================] - 53s 1s/step - loss: 0.2973 - acc: 0.8867 - val_loss: 0.3500 - val_acc: 0.8567\n",
      "Epoch 23/30\n",
      "40/40 [==============================] - 47s 1s/step - loss: 0.2980 - acc: 0.8766 - val_loss: 0.3982 - val_acc: 0.8067\n",
      "Epoch 24/30\n",
      "40/40 [==============================] - 48s 1s/step - loss: 0.2892 - acc: 0.8875 - val_loss: 0.4115 - val_acc: 0.8400\n",
      "Epoch 25/30\n",
      "40/40 [==============================] - 48s 1s/step - loss: 0.3013 - acc: 0.8750 - val_loss: 0.3772 - val_acc: 0.8567\n",
      "Epoch 26/30\n",
      "40/40 [==============================] - 48s 1s/step - loss: 0.2801 - acc: 0.8805 - val_loss: 0.3812 - val_acc: 0.8367\n",
      "Epoch 27/30\n",
      "40/40 [==============================] - 49s 1s/step - loss: 0.2968 - acc: 0.8828 - val_loss: 0.3762 - val_acc: 0.8400\n",
      "Epoch 28/30\n",
      "40/40 [==============================] - 48s 1s/step - loss: 0.2843 - acc: 0.8805 - val_loss: 0.3638 - val_acc: 0.8533\n",
      "Epoch 29/30\n",
      "40/40 [==============================] - 47s 1s/step - loss: 0.2603 - acc: 0.8969 - val_loss: 0.3412 - val_acc: 0.8600\n",
      "Epoch 30/30\n",
      "40/40 [==============================] - 47s 1s/step - loss: 0.2921 - acc: 0.8680 - val_loss: 0.3557 - val_acc: 0.8667\n"
     ]
    }
   ],
   "source": [
    "history = model.fit_generator(train_data_gen,steps_per_epoch=40,epochs=30,validation_data=val_data_gen,validation_steps=10)"
   ]
  },
  {
   "cell_type": "code",
   "execution_count": 22,
   "metadata": {},
   "outputs": [
    {
     "name": "stdout",
     "output_type": "stream",
     "text": [
      "Epoch 1/20\n",
      "40/40 [==============================] - 49s 1s/step - loss: 0.2654 - acc: 0.8836 - val_loss: 0.3481 - val_acc: 0.8600\n",
      "Epoch 2/20\n",
      "40/40 [==============================] - 49s 1s/step - loss: 0.2623 - acc: 0.8953 - val_loss: 0.3807 - val_acc: 0.8267\n",
      "Epoch 3/20\n",
      "40/40 [==============================] - 48s 1s/step - loss: 0.2626 - acc: 0.9023 - val_loss: 0.4399 - val_acc: 0.7933\n",
      "Epoch 4/20\n",
      "40/40 [==============================] - 49s 1s/step - loss: 0.2529 - acc: 0.8945 - val_loss: 0.3666 - val_acc: 0.8433\n",
      "Epoch 5/20\n",
      "40/40 [==============================] - 49s 1s/step - loss: 0.2615 - acc: 0.9078 - val_loss: 0.6166 - val_acc: 0.7200\n",
      "Epoch 6/20\n",
      "40/40 [==============================] - 48s 1s/step - loss: 0.2758 - acc: 0.8789 - val_loss: 0.3278 - val_acc: 0.8700\n",
      "Epoch 7/20\n",
      "40/40 [==============================] - 47s 1s/step - loss: 0.2660 - acc: 0.8961 - val_loss: 0.3227 - val_acc: 0.8567\n",
      "Epoch 8/20\n",
      "40/40 [==============================] - 50s 1s/step - loss: 0.2454 - acc: 0.9000 - val_loss: 0.3729 - val_acc: 0.8333\n",
      "Epoch 9/20\n",
      "40/40 [==============================] - 48s 1s/step - loss: 0.2595 - acc: 0.8984 - val_loss: 0.3815 - val_acc: 0.8567\n",
      "Epoch 10/20\n",
      "40/40 [==============================] - 51s 1s/step - loss: 0.2517 - acc: 0.8992 - val_loss: 0.4047 - val_acc: 0.8133\n",
      "Epoch 11/20\n",
      "40/40 [==============================] - 48s 1s/step - loss: 0.2505 - acc: 0.9031 - val_loss: 0.3163 - val_acc: 0.8767\n",
      "Epoch 12/20\n",
      "40/40 [==============================] - 48s 1s/step - loss: 0.2506 - acc: 0.9078 - val_loss: 0.3195 - val_acc: 0.8733\n",
      "Epoch 13/20\n",
      "40/40 [==============================] - 48s 1s/step - loss: 0.2255 - acc: 0.9156 - val_loss: 0.3389 - val_acc: 0.8700\n",
      "Epoch 14/20\n",
      "40/40 [==============================] - 48s 1s/step - loss: 0.2552 - acc: 0.8938 - val_loss: 0.3552 - val_acc: 0.8667\n",
      "Epoch 15/20\n",
      "40/40 [==============================] - 49s 1s/step - loss: 0.2377 - acc: 0.9172 - val_loss: 0.3761 - val_acc: 0.8300\n",
      "Epoch 16/20\n",
      "40/40 [==============================] - 48s 1s/step - loss: 0.2262 - acc: 0.9219 - val_loss: 0.3493 - val_acc: 0.8633\n",
      "Epoch 17/20\n",
      "40/40 [==============================] - 48s 1s/step - loss: 0.2386 - acc: 0.9172 - val_loss: 0.3263 - val_acc: 0.8733\n",
      "Epoch 18/20\n",
      "40/40 [==============================] - 48s 1s/step - loss: 0.2287 - acc: 0.9102 - val_loss: 0.3453 - val_acc: 0.8733\n",
      "Epoch 19/20\n",
      "40/40 [==============================] - 47s 1s/step - loss: 0.2238 - acc: 0.9219 - val_loss: 0.3530 - val_acc: 0.8667\n",
      "Epoch 20/20\n",
      "40/40 [==============================] - 49s 1s/step - loss: 0.2251 - acc: 0.9156 - val_loss: 0.3372 - val_acc: 0.8633\n"
     ]
    }
   ],
   "source": [
    "history = model.fit_generator(train_data_gen,steps_per_epoch=40,epochs=20,validation_data=val_data_gen,validation_steps=10)"
   ]
  },
  {
   "cell_type": "code",
   "execution_count": 25,
   "metadata": {},
   "outputs": [
    {
     "name": "stdout",
     "output_type": "stream",
     "text": [
      "Epoch 1/20\n",
      "40/40 [==============================] - 65s 2s/step - loss: 0.2259 - acc: 0.9195 - val_loss: 0.3047 - val_acc: 0.8833\n",
      "Epoch 2/20\n",
      "40/40 [==============================] - 60s 1s/step - loss: 0.2368 - acc: 0.9047 - val_loss: 0.3544 - val_acc: 0.8867\n",
      "Epoch 3/20\n",
      "40/40 [==============================] - 58s 1s/step - loss: 0.2210 - acc: 0.9203 - val_loss: 0.3034 - val_acc: 0.8800\n",
      "Epoch 4/20\n",
      "40/40 [==============================] - 50s 1s/step - loss: 0.2219 - acc: 0.9234 - val_loss: 0.3199 - val_acc: 0.8733\n",
      "Epoch 5/20\n",
      "40/40 [==============================] - 53s 1s/step - loss: 0.2105 - acc: 0.9312 - val_loss: 0.3144 - val_acc: 0.8867\n",
      "Epoch 6/20\n",
      "40/40 [==============================] - 51s 1s/step - loss: 0.2155 - acc: 0.9219 - val_loss: 0.4281 - val_acc: 0.8133\n",
      "Epoch 7/20\n",
      "40/40 [==============================] - 53s 1s/step - loss: 0.2063 - acc: 0.9180 - val_loss: 0.3251 - val_acc: 0.8933\n",
      "Epoch 8/20\n",
      "40/40 [==============================] - 60s 2s/step - loss: 0.2009 - acc: 0.9359 - val_loss: 0.2939 - val_acc: 0.8967\n",
      "Epoch 9/20\n",
      "40/40 [==============================] - 59s 1s/step - loss: 0.2087 - acc: 0.9211 - val_loss: 0.3292 - val_acc: 0.8533\n",
      "Epoch 10/20\n",
      "40/40 [==============================] - 53s 1s/step - loss: 0.2159 - acc: 0.9219 - val_loss: 0.3083 - val_acc: 0.8667\n",
      "Epoch 11/20\n",
      "40/40 [==============================] - 52s 1s/step - loss: 0.1955 - acc: 0.9297 - val_loss: 0.3299 - val_acc: 0.8800\n",
      "Epoch 12/20\n",
      "40/40 [==============================] - 54s 1s/step - loss: 0.1983 - acc: 0.9305 - val_loss: 0.3405 - val_acc: 0.8433\n",
      "Epoch 13/20\n",
      "40/40 [==============================] - 54s 1s/step - loss: 0.2061 - acc: 0.9266 - val_loss: 0.2948 - val_acc: 0.8967\n",
      "Epoch 14/20\n",
      "40/40 [==============================] - 52s 1s/step - loss: 0.1872 - acc: 0.9375 - val_loss: 0.2952 - val_acc: 0.8867\n",
      "Epoch 15/20\n",
      "40/40 [==============================] - 53s 1s/step - loss: 0.2036 - acc: 0.9227 - val_loss: 0.3062 - val_acc: 0.8833\n",
      "Epoch 16/20\n",
      "40/40 [==============================] - 48s 1s/step - loss: 0.2045 - acc: 0.9281 - val_loss: 0.2946 - val_acc: 0.8800\n",
      "Epoch 17/20\n",
      "40/40 [==============================] - 49s 1s/step - loss: 0.1853 - acc: 0.9398 - val_loss: 0.3524 - val_acc: 0.8500\n",
      "Epoch 18/20\n",
      "40/40 [==============================] - 48s 1s/step - loss: 0.1867 - acc: 0.9367 - val_loss: 0.2918 - val_acc: 0.8967\n",
      "Epoch 19/20\n",
      "40/40 [==============================] - 48s 1s/step - loss: 0.1808 - acc: 0.9422 - val_loss: 0.3703 - val_acc: 0.8467\n",
      "Epoch 20/20\n",
      "40/40 [==============================] - 48s 1s/step - loss: 0.1819 - acc: 0.9398 - val_loss: 0.2937 - val_acc: 0.8933\n"
     ]
    }
   ],
   "source": [
    "history = model.fit_generator(train_data_gen,steps_per_epoch=40,epochs=20,validation_data=val_data_gen,validation_steps=10)"
   ]
  },
  {
   "cell_type": "code",
   "execution_count": 26,
   "metadata": {},
   "outputs": [
    {
     "name": "stdout",
     "output_type": "stream",
     "text": [
      "Epoch 1/50\n",
      "40/40 [==============================] - 49s 1s/step - loss: 0.2065 - acc: 0.9273 - val_loss: 0.3245 - val_acc: 0.8800\n",
      "Epoch 2/50\n",
      "40/40 [==============================] - 49s 1s/step - loss: 0.1852 - acc: 0.9352 - val_loss: 0.2805 - val_acc: 0.8967\n",
      "Epoch 3/50\n",
      "40/40 [==============================] - 50s 1s/step - loss: 0.1665 - acc: 0.9453 - val_loss: 0.3162 - val_acc: 0.8733\n",
      "Epoch 4/50\n",
      "40/40 [==============================] - 49s 1s/step - loss: 0.1705 - acc: 0.9445 - val_loss: 0.3826 - val_acc: 0.8500\n",
      "Epoch 5/50\n",
      "40/40 [==============================] - 49s 1s/step - loss: 0.1763 - acc: 0.9391 - val_loss: 0.3101 - val_acc: 0.8767\n",
      "Epoch 6/50\n",
      "40/40 [==============================] - 48s 1s/step - loss: 0.1800 - acc: 0.9375 - val_loss: 0.2948 - val_acc: 0.8933\n",
      "Epoch 7/50\n",
      "40/40 [==============================] - 48s 1s/step - loss: 0.1722 - acc: 0.9445 - val_loss: 0.2934 - val_acc: 0.8867\n",
      "Epoch 8/50\n",
      "40/40 [==============================] - 49s 1s/step - loss: 0.1763 - acc: 0.9398 - val_loss: 0.3166 - val_acc: 0.8533\n",
      "Epoch 9/50\n",
      "40/40 [==============================] - 48s 1s/step - loss: 0.1719 - acc: 0.9383 - val_loss: 0.3210 - val_acc: 0.8833\n",
      "Epoch 10/50\n",
      "40/40 [==============================] - 48s 1s/step - loss: 0.1746 - acc: 0.9445 - val_loss: 0.3038 - val_acc: 0.9000\n",
      "Epoch 11/50\n",
      "40/40 [==============================] - 47s 1s/step - loss: 0.1576 - acc: 0.9523 - val_loss: 0.2831 - val_acc: 0.8867\n",
      "Epoch 12/50\n",
      "40/40 [==============================] - 47s 1s/step - loss: 0.1790 - acc: 0.9367 - val_loss: 0.2905 - val_acc: 0.8933\n",
      "Epoch 13/50\n",
      "40/40 [==============================] - 47s 1s/step - loss: 0.1569 - acc: 0.9516 - val_loss: 0.3382 - val_acc: 0.8433\n",
      "Epoch 14/50\n",
      "40/40 [==============================] - 47s 1s/step - loss: 0.1634 - acc: 0.9555 - val_loss: 0.2802 - val_acc: 0.8967\n",
      "Epoch 15/50\n",
      "40/40 [==============================] - 47s 1s/step - loss: 0.1692 - acc: 0.9344 - val_loss: 0.3007 - val_acc: 0.8967\n",
      "Epoch 16/50\n",
      "40/40 [==============================] - 47s 1s/step - loss: 0.1678 - acc: 0.9492 - val_loss: 0.2821 - val_acc: 0.8933\n",
      "Epoch 17/50\n",
      "40/40 [==============================] - 47s 1s/step - loss: 0.1458 - acc: 0.9648 - val_loss: 0.2937 - val_acc: 0.9100\n",
      "Epoch 18/50\n",
      "40/40 [==============================] - 47s 1s/step - loss: 0.1695 - acc: 0.9422 - val_loss: 0.3391 - val_acc: 0.8567\n",
      "Epoch 19/50\n",
      "40/40 [==============================] - 47s 1s/step - loss: 0.1542 - acc: 0.9500 - val_loss: 0.3561 - val_acc: 0.8500\n",
      "Epoch 20/50\n",
      "40/40 [==============================] - 5826s 146s/step - loss: 0.1631 - acc: 0.9500 - val_loss: 0.3137 - val_acc: 0.8700\n",
      "Epoch 21/50\n",
      "40/40 [==============================] - 49s 1s/step - loss: 0.1470 - acc: 0.9539 - val_loss: 0.2872 - val_acc: 0.8700\n",
      "Epoch 22/50\n",
      "40/40 [==============================] - 48s 1s/step - loss: 0.1456 - acc: 0.9547 - val_loss: 0.2823 - val_acc: 0.9000\n",
      "Epoch 23/50\n",
      "40/40 [==============================] - 48s 1s/step - loss: 0.1464 - acc: 0.9648 - val_loss: 0.3235 - val_acc: 0.8700\n",
      "Epoch 24/50\n",
      "40/40 [==============================] - 47s 1s/step - loss: 0.1542 - acc: 0.9508 - val_loss: 0.3392 - val_acc: 0.8633\n",
      "Epoch 25/50\n",
      "40/40 [==============================] - 48s 1s/step - loss: 0.1444 - acc: 0.9586 - val_loss: 0.3212 - val_acc: 0.8667\n",
      "Epoch 26/50\n",
      "40/40 [==============================] - 50s 1s/step - loss: 0.1450 - acc: 0.9570 - val_loss: 0.2898 - val_acc: 0.8733\n",
      "Epoch 27/50\n",
      "40/40 [==============================] - 47s 1s/step - loss: 0.1474 - acc: 0.9609 - val_loss: 0.3184 - val_acc: 0.8667\n",
      "Epoch 28/50\n",
      "40/40 [==============================] - 48s 1s/step - loss: 0.1386 - acc: 0.9594 - val_loss: 0.3870 - val_acc: 0.8433\n",
      "Epoch 29/50\n",
      "40/40 [==============================] - 48s 1s/step - loss: 0.1464 - acc: 0.9578 - val_loss: 0.3113 - val_acc: 0.8700\n",
      "Epoch 30/50\n",
      "40/40 [==============================] - 48s 1s/step - loss: 0.1415 - acc: 0.9563 - val_loss: 0.2744 - val_acc: 0.9067\n",
      "Epoch 31/50\n",
      "40/40 [==============================] - 47s 1s/step - loss: 0.1280 - acc: 0.9664 - val_loss: 0.2842 - val_acc: 0.9033\n",
      "Epoch 32/50\n",
      "40/40 [==============================] - 48s 1s/step - loss: 0.1498 - acc: 0.9563 - val_loss: 0.2757 - val_acc: 0.9067\n",
      "Epoch 33/50\n",
      "40/40 [==============================] - 48s 1s/step - loss: 0.1328 - acc: 0.9656 - val_loss: 0.2854 - val_acc: 0.9033\n",
      "Epoch 34/50\n",
      "40/40 [==============================] - 47s 1s/step - loss: 0.1276 - acc: 0.9656 - val_loss: 0.2895 - val_acc: 0.8867\n",
      "Epoch 35/50\n",
      "40/40 [==============================] - 48s 1s/step - loss: 0.1315 - acc: 0.9672 - val_loss: 0.2722 - val_acc: 0.8800\n",
      "Epoch 36/50\n",
      "40/40 [==============================] - 47s 1s/step - loss: 0.1313 - acc: 0.9664 - val_loss: 0.2979 - val_acc: 0.8800\n",
      "Epoch 37/50\n",
      "40/40 [==============================] - 47s 1s/step - loss: 0.1316 - acc: 0.9688 - val_loss: 0.3026 - val_acc: 0.8667\n",
      "Epoch 38/50\n",
      "40/40 [==============================] - 47s 1s/step - loss: 0.1327 - acc: 0.9672 - val_loss: 0.2990 - val_acc: 0.8933\n",
      "Epoch 39/50\n",
      "40/40 [==============================] - 47s 1s/step - loss: 0.1320 - acc: 0.9680 - val_loss: 0.2846 - val_acc: 0.8700\n",
      "Epoch 40/50\n",
      "40/40 [==============================] - 47s 1s/step - loss: 0.1225 - acc: 0.9703 - val_loss: 0.2980 - val_acc: 0.8667\n",
      "Epoch 41/50\n",
      "40/40 [==============================] - 47s 1s/step - loss: 0.1208 - acc: 0.9703 - val_loss: 0.2955 - val_acc: 0.8733\n",
      "Epoch 42/50\n",
      "40/40 [==============================] - 47s 1s/step - loss: 0.1376 - acc: 0.9578 - val_loss: 0.2767 - val_acc: 0.8867\n",
      "Epoch 43/50\n",
      "40/40 [==============================] - 47s 1s/step - loss: 0.1060 - acc: 0.9805 - val_loss: 0.2723 - val_acc: 0.9000\n",
      "Epoch 44/50\n",
      "40/40 [==============================] - 47s 1s/step - loss: 0.1261 - acc: 0.9664 - val_loss: 0.2818 - val_acc: 0.9000\n",
      "Epoch 45/50\n",
      "40/40 [==============================] - 46s 1s/step - loss: 0.1130 - acc: 0.9695 - val_loss: 0.2711 - val_acc: 0.9133\n",
      "Epoch 46/50\n",
      "40/40 [==============================] - 47s 1s/step - loss: 0.1195 - acc: 0.9719 - val_loss: 0.2656 - val_acc: 0.8967\n",
      "Epoch 47/50\n",
      "40/40 [==============================] - 46s 1s/step - loss: 0.1203 - acc: 0.9727 - val_loss: 0.2684 - val_acc: 0.9067\n",
      "Epoch 48/50\n",
      "40/40 [==============================] - 47s 1s/step - loss: 0.1140 - acc: 0.9750 - val_loss: 0.2665 - val_acc: 0.9033\n",
      "Epoch 49/50\n",
      "40/40 [==============================] - 47s 1s/step - loss: 0.1204 - acc: 0.9695 - val_loss: 0.2757 - val_acc: 0.9100\n",
      "Epoch 50/50\n",
      "40/40 [==============================] - 47s 1s/step - loss: 0.1163 - acc: 0.9750 - val_loss: 0.2594 - val_acc: 0.9100\n"
     ]
    }
   ],
   "source": [
    "history = model.fit_generator(train_data_gen,steps_per_epoch=40,epochs=50,validation_data=val_data_gen,validation_steps=10)"
   ]
  },
  {
   "cell_type": "markdown",
   "metadata": {},
   "source": [
    "Without using any reluralization tachnique accuracy went to 91% "
   ]
  },
  {
   "cell_type": "code",
   "execution_count": 27,
   "metadata": {},
   "outputs": [],
   "source": [
    "model.save('91v_a 97t_a.h5') # save the model"
   ]
  },
  {
   "cell_type": "code",
   "execution_count": 28,
   "metadata": {},
   "outputs": [
    {
     "name": "stdout",
     "output_type": "stream",
     "text": [
      "Found 300 images belonging to 2 classes.\n"
     ]
    }
   ],
   "source": [
    "test_data_gen = test_gen.flow_from_directory(test_dir,class_mode=\"binary\",target_size=(224,224)) #prepareing the data test set"
   ]
  },
  {
   "cell_type": "code",
   "execution_count": 32,
   "metadata": {},
   "outputs": [
    {
     "name": "stdout",
     "output_type": "stream",
     "text": [
      "Testing loss is 0.19015775118023157 and Testing Accuracy is 0.9166666865348816\n"
     ]
    }
   ],
   "source": [
    "test_results = model.evaluate_generator(test_data_gen )\n",
    "print(f\"Testing loss is {test_results[0]} and Testing Accuracy is {test_results[1]}\")"
   ]
  },
  {
   "cell_type": "markdown",
   "metadata": {},
   "source": [
    "###### Now load (91v_a 97t_a.h5) model get prediction from it"
   ]
  },
  {
   "cell_type": "code",
   "execution_count": 34,
   "metadata": {},
   "outputs": [
    {
     "name": "stdout",
     "output_type": "stream",
     "text": [
      "['a1.jpg', 'a2.jpg', 'a3.jpg', 'a4.jpg', 'a5.jpg', 'b10.jpg', 'b11.jpg', 'b12.jpg', 'b6.jpg', 'b7.jpg', 'b8.jpg', 'b9.jpg']\n"
     ]
    }
   ],
   "source": [
    "path = \"E:/588139_1060756_bundle_archive/prediction/image\"\n",
    "labels = []\n",
    "img_path = os.listdir(path)\n",
    "print(img_path)\n",
    "for i in img_path:\n",
    "    if i[0] == \"a\":\n",
    "        labels.append(\"Average\") #= \"average\"\n",
    "    else:\n",
    "        labels.append(\"Beautiful\")"
   ]
  },
  {
   "cell_type": "code",
   "execution_count": 26,
   "metadata": {},
   "outputs": [
    {
     "data": {
      "text/plain": [
       "['Average',\n",
       " 'Average',\n",
       " 'Average',\n",
       " 'Average',\n",
       " 'Average',\n",
       " 'Beautiful',\n",
       " 'Beautiful',\n",
       " 'Beautiful',\n",
       " 'Beautiful',\n",
       " 'Beautiful',\n",
       " 'Beautiful',\n",
       " 'Beautiful']"
      ]
     },
     "execution_count": 26,
     "metadata": {},
     "output_type": "execute_result"
    }
   ],
   "source": [
    "labels"
   ]
  },
  {
   "cell_type": "code",
   "execution_count": null,
   "metadata": {},
   "outputs": [],
   "source": []
  },
  {
   "cell_type": "code",
   "execution_count": 74,
   "metadata": {},
   "outputs": [
    {
     "name": "stdout",
     "output_type": "stream",
     "text": [
      "['E:/588139_1060756_bundle_archive/prediction/image\\\\a1.jpg', 'E:/588139_1060756_bundle_archive/prediction/image\\\\a2.jpg', 'E:/588139_1060756_bundle_archive/prediction/image\\\\a3.jpg', 'E:/588139_1060756_bundle_archive/prediction/image\\\\a4.jpg', 'E:/588139_1060756_bundle_archive/prediction/image\\\\a5.jpg', 'E:/588139_1060756_bundle_archive/prediction/image\\\\b10.jpg', 'E:/588139_1060756_bundle_archive/prediction/image\\\\b11.jpg', 'E:/588139_1060756_bundle_archive/prediction/image\\\\b12.jpg', 'E:/588139_1060756_bundle_archive/prediction/image\\\\b6.jpg', 'E:/588139_1060756_bundle_archive/prediction/image\\\\b7.jpg', 'E:/588139_1060756_bundle_archive/prediction/image\\\\b8.jpg', 'E:/588139_1060756_bundle_archive/prediction/image\\\\b9.jpg']\n"
     ]
    }
   ],
   "source": [
    "pre_data_dir = \"E:/588139_1060756_bundle_archive/prediction/image\"\n",
    "img = []\n",
    "\n",
    "for a in img_path: # here a is image in img_path variable \n",
    "    img.append(os.path.join(pre_data_dir,a))\n",
    "    \n",
    "    \n",
    "print(img)\n",
    "\n",
    "# for j in img:\n",
    "    \n",
    "\n",
    "# # prediction = model.predict(img)\n"
   ]
  },
  {
   "cell_type": "code",
   "execution_count": 75,
   "metadata": {},
   "outputs": [],
   "source": [
    "\n",
    "data = []\n",
    "for k in img:\n",
    "    pic = image.load_img(k,target_size=(224,224))\n",
    "    pic_arr = image.img_to_array(pic)\n",
    "    #print('pic_arr',pic_arr)\n",
    "    pic = pic_arr * 1./255\n",
    "    #print('pic',pic)\n",
    "    pic = pic.reshape(224,224,3)\n",
    "    #print('pic',pic)\n",
    "    data.append(pic)\n",
    "\n",
    "\n"
   ]
  },
  {
   "cell_type": "code",
   "execution_count": 104,
   "metadata": {},
   "outputs": [
    {
     "data": {
      "image/png": "[encoded data removed]",
      "text/plain": [
       "<PIL.Image.Image image mode=RGB size=224x224 at 0x8E840E2C48>"
      ]
     },
     "execution_count": 104,
     "metadata": {},
     "output_type": "execute_result"
    }
   ],
   "source": [
    "image.array_to_img(pic) # just check the picture"
   ]
  },
  {
   "cell_type": "code",
   "execution_count": 81,
   "metadata": {},
   "outputs": [
    {
     "data": {
      "text/plain": [
       "(12, 224, 224, 3)"
      ]
     },
     "execution_count": 81,
     "metadata": {},
     "output_type": "execute_result"
    }
   ],
   "source": [
    "len(data)\n",
    "data = np.array(data)\n",
    "data.shape"
   ]
  },
  {
   "cell_type": "code",
   "execution_count": 88,
   "metadata": {},
   "outputs": [
    {
     "data": {
      "text/plain": [
       "array([[0.36083722],\n",
       "       [0.82818764],\n",
       "       [0.8651445 ],\n",
       "       [0.19552785],\n",
       "       [0.9954457 ],\n",
       "       [0.8091218 ],\n",
       "       [0.4077367 ],\n",
       "       [0.27429914],\n",
       "       [0.99618006],\n",
       "       [0.35454008],\n",
       "       [0.63205326],\n",
       "       [0.9978636 ]], dtype=float32)"
      ]
     },
     "execution_count": 88,
     "metadata": {},
     "output_type": "execute_result"
    }
   ],
   "source": [
    "from tensorflow.keras import models\n",
    "avg_beu = models.load_model('91v_a 97t_a.h5') #model has saved in avg_beu variable \n",
    "prediction = avg_beu.predict(data, batch_size = 1)\n",
    "prediction"
   ]
  },
  {
   "cell_type": "code",
   "execution_count": 99,
   "metadata": {
    "scrolled": true
   },
   "outputs": [
    {
     "name": "stdout",
     "output_type": "stream",
     "text": [
      "Average... [0.36083722]\n",
      "Beautiful ... [0.82818764]\n",
      "Beautiful ... [0.8651445]\n",
      "Average... [0.19552785]\n",
      "Beautiful ... [0.9954457]\n",
      "Beautiful ... [0.8091218]\n",
      "Average... [0.4077367]\n",
      "Average... [0.27429914]\n",
      "Beautiful ... [0.99618006]\n",
      "Average... [0.35454008]\n",
      "Beautiful ... [0.63205326]\n",
      "Beautiful ... [0.9978636]\n",
      "Actual Label is ... Average and predicted label is ... [0.36083722]\n",
      "Actual Label is ... Average and predicted label is ... [0.82818764]\n",
      "Actual Label is ... Average and predicted label is ... [0.8651445]\n",
      "Actual Label is ... Average and predicted label is ... [0.19552785]\n",
      "Actual Label is ... Average and predicted label is ... [0.9954457]\n",
      "Actual Label is ... Beautiful and predicted label is ... [0.8091218]\n",
      "Actual Label is ... Beautiful and predicted label is ... [0.4077367]\n",
      "Actual Label is ... Beautiful and predicted label is ... [0.27429914]\n",
      "Actual Label is ... Beautiful and predicted label is ... [0.99618006]\n",
      "Actual Label is ... Beautiful and predicted label is ... [0.35454008]\n",
      "Actual Label is ... Beautiful and predicted label is ... [0.63205326]\n",
      "Actual Label is ... Beautiful and predicted label is ... [0.9978636]\n"
     ]
    }
   ],
   "source": [
    "for pred in prediction:\n",
    "    if pred > 0.5:\n",
    "        print(\"Beautiful ...\" ,pred )\n",
    "    elif pred < 0.5:\n",
    "        print(\"Average...\" , pred)\n",
    "print(\"Actual Label is ...\",labels[0] , \"and predicted label is ...\",prediction[0])\n",
    "print(\"Actual Label is ...\",labels[1] , \"and predicted label is ...\",prediction[1])\n",
    "print(\"Actual Label is ...\",labels[2] , \"and predicted label is ...\",prediction[2])\n",
    "print(\"Actual Label is ...\",labels[3] , \"and predicted label is ...\",prediction[3])\n",
    "print(\"Actual Label is ...\",labels[4] , \"and predicted label is ...\",prediction[4])\n",
    "print(\"Actual Label is ...\",labels[5] , \"and predicted label is ...\",prediction[5])\n",
    "print(\"Actual Label is ...\",labels[6] , \"and predicted label is ...\",prediction[6])\n",
    "print(\"Actual Label is ...\",labels[7] , \"and predicted label is ...\",prediction[7])\n",
    "print(\"Actual Label is ...\",labels[8] , \"and predicted label is ...\",prediction[8])\n",
    "print(\"Actual Label is ...\",labels[9] , \"and predicted label is ...\",prediction[9])\n",
    "print(\"Actual Label is ...\",labels[10] , \"and predicted label is ...\",prediction[10])\n",
    "print(\"Actual Label is ...\",labels[11] , \"and predicted label is ...\",prediction[11])\n"
   ]
  },
  {
   "cell_type": "code",
   "execution_count": null,
   "metadata": {},
   "outputs": [],
   "source": []
  },
  {
   "cell_type": "code",
   "execution_count": 11,
   "metadata": {},
   "outputs": [],
   "source": []
  }
 ],
 "metadata": {
  "accelerator": "GPU",
  "colab": {
   "name": "Untitled",
   "provenance": []
  },
  "kernelspec": {
   "display_name": "Python 3",
   "language": "python",
   "name": "python3"
  },
  "language_info": {
   "codemirror_mode": {
    "name": "ipython",
    "version": 3
   },
   "file_extension": ".py",
   "mimetype": "text/x-python",
   "name": "python",
   "nbconvert_exporter": "python",
   "pygments_lexer": "ipython3",
   "version": "3.7.6"
  }
 },
 "nbformat": 4,
 "nbformat_minor": 1
}
